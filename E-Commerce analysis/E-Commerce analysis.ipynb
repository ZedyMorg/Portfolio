{
 "cells": [
  {
   "cell_type": "code",
   "execution_count": 1,
   "id": "76f973c7",
   "metadata": {},
   "outputs": [],
   "source": [
    "import pandas as pd\n",
    "import numpy as np\n",
    "from datetime import date\n",
    "from datetime import datetime\n",
    "from datetime import timedelta\n",
    "import matplotlib.pyplot as plt\n",
    "import seaborn as sns\n",
    "import statistics\n",
    "import scipy.stats as scipy"
   ]
  },
  {
   "cell_type": "markdown",
   "id": "bfc0a663",
   "metadata": {},
   "source": [
    "# 1. EDA"
   ]
  },
  {
   "cell_type": "code",
   "execution_count": 2,
   "id": "5d8c392e",
   "metadata": {},
   "outputs": [],
   "source": [
    "#Importing files on users and transactions and merging information on groups\n",
    "\n",
    "#Test group\n",
    "users_test = pd.read_csv('users_test.csv', sep=';')\n",
    "transactions_test = pd.read_csv('transactions_test.csv', sep=';') \n",
    "test_group = users_test.merge(transactions_test,how='inner',on ='uid')\n",
    "\n",
    "#Control1\n",
    "users_control_1 = pd.read_csv('users_control_1.csv', sep=';')\n",
    "transactions_control_1 = pd.read_csv('transactions_control_1.csv', sep=';') \n",
    "control_1_group = users_control_1.merge(transactions_control_1,how='inner',on ='uid')\n",
    "\n",
    "#Control2\n",
    "users_control_2 = pd.read_csv('users_control_2.csv', sep=';')\n",
    "transactions_control_2 = pd.read_csv('transactions_control_2.csv', sep=';') \n",
    "control_2_group = users_control_2.merge(transactions_control_2,how='inner',on ='uid')\n"
   ]
  },
  {
   "cell_type": "code",
   "execution_count": 3,
   "id": "9c96a3f9",
   "metadata": {},
   "outputs": [],
   "source": [
    "#Putting dates into date format\n",
    "\n",
    "test_group['joined_at'] = pd.to_datetime(test_group['joined_at'])\n",
    "test_group['paid_at'] = pd.to_datetime(test_group['paid_at'])\n",
    "\n",
    "control_1_group['joined_at'] = pd.to_datetime(control_1_group['joined_at'])\n",
    "control_1_group['paid_at'] = pd.to_datetime(control_1_group['paid_at'])\n",
    "\n",
    "control_2_group['joined_at'] = pd.to_datetime(control_2_group['joined_at'])\n",
    "control_2_group['paid_at'] = pd.to_datetime(control_2_group['paid_at'])"
   ]
  },
  {
   "cell_type": "code",
   "execution_count": 4,
   "id": "b535a979",
   "metadata": {},
   "outputs": [
    {
     "name": "stdout",
     "output_type": "stream",
     "text": [
      "Test group joined min : 2017-01-11 03:07:00\n",
      "Test group joined max : 2017-10-31 23:40:00\n",
      "Test group paid min : 2017-01-11 04:37:00\n",
      "Test group paid max : 2017-12-11 22:06:00\n",
      "\n",
      "Control group 1 joined min : 2015-01-19 11:49:00\n",
      "Control group 1 joined max : 2017-10-31 22:17:00\n",
      "Control group 1 paid min : 2016-12-14 16:16:00\n",
      "Control group 1 paid max : 2017-12-11 21:57:00\n",
      "\n",
      "Control group 2 joined min : 2017-01-11 08:36:00\n",
      "Control group 2 joined max : 2017-10-31 17:43:00\n",
      "Control group 2 paid min : 2017-01-11 05:34:00\n",
      "Control group 2 paid max : 2017-12-11 23:28:00\n"
     ]
    }
   ],
   "source": [
    "#Looking for outlier in dates.\n",
    "\n",
    "print('Test group joined min : ' + str(test_group['joined_at'].min()) + '\\nTest group joined max : ' + str(test_group['joined_at'].max()))\n",
    "print('Test group paid min : ' + str(test_group['paid_at'].min()) + '\\nTest group paid max : ' + str(test_group['paid_at'].max()))\n",
    "\n",
    "print('\\nControl group 1 joined min : ' + str(control_1_group['joined_at'].min()) + '\\nControl group 1 joined max : ' + str(control_1_group['joined_at'].max()))\n",
    "print('Control group 1 paid min : ' + str(control_1_group['paid_at'].min()) + '\\nControl group 1 paid max : ' + str(control_1_group['paid_at'].max()))\n",
    "\n",
    "print('\\nControl group 2 joined min : ' + str(control_2_group['joined_at'].min()) + '\\nControl group 2 joined max : ' + str(control_2_group['joined_at'].max()))\n",
    "print('Control group 2 paid min : ' + str(control_2_group['paid_at'].min()) + '\\nControl group 2 paid max : ' + str(control_2_group['paid_at'].max()))\n",
    "\n"
   ]
  },
  {
   "cell_type": "markdown",
   "id": "4d06d491",
   "metadata": {},
   "source": [
    "We see that control group 2 and test group have same data range. Though, there is a problem in control group 1."
   ]
  },
  {
   "cell_type": "markdown",
   "id": "7fdbf2a6",
   "metadata": {},
   "source": [
    "##### We want the control groups to have the same date lenght as our test group to get effective inputs."
   ]
  },
  {
   "cell_type": "code",
   "execution_count": 5,
   "id": "be3556a8",
   "metadata": {},
   "outputs": [],
   "source": [
    "control_1_group = control_1_group[(control_1_group['paid_at'] >= '2017-01-11')]\n",
    "control_1_group = control_1_group[(control_1_group['paid_at'] <= '2017-12-11') ]\n",
    "control_1_group = control_1_group[(control_1_group['joined_at'] >= '2017-01-11')]\n",
    "control_1_group = control_1_group[(control_1_group['joined_at'] <= '2017-10-31') ]\n",
    "\n",
    "control_2_group = control_2_group[(control_2_group['paid_at'] >= '2017-01-11')]\n",
    "control_2_group = control_2_group[(control_2_group['paid_at'] <= '2017-12-11') ]\n",
    "control_2_group = control_2_group[(control_2_group['joined_at'] >= '2017-01-11')]\n",
    "control_2_group = control_2_group[(control_2_group['joined_at'] <= '2017-10-31') ]"
   ]
  },
  {
   "cell_type": "code",
   "execution_count": 6,
   "id": "db73edba",
   "metadata": {},
   "outputs": [
    {
     "name": "stdout",
     "output_type": "stream",
     "text": [
      "Test group joined min : 2017-01-11 03:07:00\n",
      "Test group joined max : 2017-10-31 23:40:00\n",
      "Test group paid min : 2017-01-11 04:37:00\n",
      "Test group paid max : 2017-12-11 22:06:00\n",
      "\n",
      "Control group 1 joined min : 2017-01-11 01:06:00\n",
      "Control group 1 joined max : 2017-10-30 23:53:00\n",
      "Control group 1 paid min : 2017-01-11 02:56:00\n",
      "Control group 1 paid max : 2017-11-15 09:28:00\n",
      "\n",
      "Control group 2 joined min : 2017-01-11 08:36:00\n",
      "Control group 2 joined max : 2017-10-30 19:29:00\n",
      "Control group 2 paid min : 2017-01-11 05:34:00\n",
      "Control group 2 paid max : 2017-11-15 02:15:00\n"
     ]
    }
   ],
   "source": [
    "print('Test group joined min : ' + str(test_group['joined_at'].min()) + '\\nTest group joined max : ' + str(test_group['joined_at'].max()))\n",
    "print('Test group paid min : ' + str(test_group['paid_at'].min()) + '\\nTest group paid max : ' + str(test_group['paid_at'].max()))\n",
    "\n",
    "print('\\nControl group 1 joined min : ' + str(control_1_group['joined_at'].min()) + '\\nControl group 1 joined max : ' + str(control_1_group['joined_at'].max()))\n",
    "print('Control group 1 paid min : ' + str(control_1_group['paid_at'].min()) + '\\nControl group 1 paid max : ' + str(control_1_group['paid_at'].max()))\n",
    "\n",
    "print('\\nControl group 2 joined min : ' + str(control_2_group['joined_at'].min()) + '\\nControl group 2 joined max : ' + str(control_2_group['joined_at'].max()))\n",
    "print('Control group 2 paid min : ' + str(control_2_group['paid_at'].min()) + '\\nControl group 2 paid max : ' + str(control_2_group['paid_at'].max()))\n",
    "\n",
    "#Dates look fine, now."
   ]
  },
  {
   "cell_type": "markdown",
   "id": "d175e995",
   "metadata": {},
   "source": [
    "##### On the cells below, I am trying to understand the date values we have in the dataframes. It is in my understanding that an account should be registered before a user can make the payment. Since the special offer is for users who recently registered, I planned to isolate the new users that recently registered and then subscribed. It was very surprising to me that either in test or control groups, sometime users registered before and made payment after, or the other way around, users paid and then register. I would ask buisness team how the process of registering/paying works to see what do we consider 'new users'."
   ]
  },
  {
   "cell_type": "code",
   "execution_count": 7,
   "id": "782d4cf7",
   "metadata": {},
   "outputs": [],
   "source": [
    "test_group['join-paid'] = test_group['joined_at'] - test_group['paid_at']\n",
    "test_group['paid-join'] = test_group['paid_at'] - test_group['joined_at']\n",
    "\n",
    "control_1_group['join-paid'] = control_1_group['joined_at'] - control_1_group['paid_at']\n",
    "control_1_group['paid-join'] = control_1_group['paid_at'] - control_1_group['joined_at']\n",
    "\n",
    "control_2_group['join-paid'] = control_2_group['joined_at'] - control_2_group['paid_at']\n",
    "control_2_group['paid-join'] = control_2_group['paid_at'] - control_2_group['joined_at']"
   ]
  },
  {
   "cell_type": "code",
   "execution_count": 8,
   "id": "25fe23e1",
   "metadata": {},
   "outputs": [
    {
     "data": {
      "text/html": [
       "<div>\n",
       "<style scoped>\n",
       "    .dataframe tbody tr th:only-of-type {\n",
       "        vertical-align: middle;\n",
       "    }\n",
       "\n",
       "    .dataframe tbody tr th {\n",
       "        vertical-align: top;\n",
       "    }\n",
       "\n",
       "    .dataframe thead th {\n",
       "        text-align: right;\n",
       "    }\n",
       "</style>\n",
       "<table border=\"1\" class=\"dataframe\">\n",
       "  <thead>\n",
       "    <tr style=\"text-align: right;\">\n",
       "      <th></th>\n",
       "      <th>uid</th>\n",
       "      <th>age</th>\n",
       "      <th>attraction_coeff</th>\n",
       "      <th>coins</th>\n",
       "      <th>country_x</th>\n",
       "      <th>visit_days</th>\n",
       "      <th>gender</th>\n",
       "      <th>age_filter_start</th>\n",
       "      <th>age_filter_end</th>\n",
       "      <th>views_count</th>\n",
       "      <th>...</th>\n",
       "      <th>total_revenue</th>\n",
       "      <th>country_y</th>\n",
       "      <th>joined_at</th>\n",
       "      <th>paid_at</th>\n",
       "      <th>revenue</th>\n",
       "      <th>payment_id</th>\n",
       "      <th>from_page</th>\n",
       "      <th>product_type</th>\n",
       "      <th>join-paid</th>\n",
       "      <th>paid-join</th>\n",
       "    </tr>\n",
       "  </thead>\n",
       "  <tbody>\n",
       "    <tr>\n",
       "      <th>151</th>\n",
       "      <td>891861594</td>\n",
       "      <td>32</td>\n",
       "      <td>328</td>\n",
       "      <td>5.0</td>\n",
       "      <td>Chile</td>\n",
       "      <td>3,4,5,6,7,8,9,10,11,12,13,14,15,16,17,18,19,20,21</td>\n",
       "      <td>1</td>\n",
       "      <td>29</td>\n",
       "      <td>35</td>\n",
       "      <td>125</td>\n",
       "      <td>...</td>\n",
       "      <td>24973</td>\n",
       "      <td>Chile</td>\n",
       "      <td>2017-10-26 02:25:00</td>\n",
       "      <td>2017-01-11 04:37:00</td>\n",
       "      <td>4004</td>\n",
       "      <td>19</td>\n",
       "      <td>empty_likes</td>\n",
       "      <td>coins</td>\n",
       "      <td>287 days 21:48:00</td>\n",
       "      <td>-288 days +02:12:00</td>\n",
       "    </tr>\n",
       "    <tr>\n",
       "      <th>251</th>\n",
       "      <td>891861048</td>\n",
       "      <td>35</td>\n",
       "      <td>319</td>\n",
       "      <td>6.0</td>\n",
       "      <td>Canada</td>\n",
       "      <td>1,2,3,4,5,6,7,8,9,10,16</td>\n",
       "      <td>1</td>\n",
       "      <td>32</td>\n",
       "      <td>38</td>\n",
       "      <td>219</td>\n",
       "      <td>...</td>\n",
       "      <td>21359</td>\n",
       "      <td>Canada</td>\n",
       "      <td>2017-10-26 02:55:00</td>\n",
       "      <td>2017-01-11 07:13:00</td>\n",
       "      <td>3523</td>\n",
       "      <td>19</td>\n",
       "      <td>none</td>\n",
       "      <td>coins</td>\n",
       "      <td>287 days 19:42:00</td>\n",
       "      <td>-288 days +04:18:00</td>\n",
       "    </tr>\n",
       "    <tr>\n",
       "      <th>118</th>\n",
       "      <td>892018248</td>\n",
       "      <td>22</td>\n",
       "      <td>114</td>\n",
       "      <td>16.0</td>\n",
       "      <td>United Kingdom (Great Britain)</td>\n",
       "      <td>2,3,4,5,6,7,8,9,10,11,12,13,14,16,17,18,20,21,23</td>\n",
       "      <td>1</td>\n",
       "      <td>19</td>\n",
       "      <td>25</td>\n",
       "      <td>87</td>\n",
       "      <td>...</td>\n",
       "      <td>15574</td>\n",
       "      <td>United Kingdom (Great Britain)</td>\n",
       "      <td>2017-10-22 19:50:00</td>\n",
       "      <td>2017-01-11 13:42:00</td>\n",
       "      <td>6032</td>\n",
       "      <td>19</td>\n",
       "      <td>likes</td>\n",
       "      <td>coins</td>\n",
       "      <td>284 days 06:08:00</td>\n",
       "      <td>-285 days +17:52:00</td>\n",
       "    </tr>\n",
       "    <tr>\n",
       "      <th>5</th>\n",
       "      <td>891589239</td>\n",
       "      <td>21</td>\n",
       "      <td>303</td>\n",
       "      <td>37.0</td>\n",
       "      <td>Italy</td>\n",
       "      <td>1,2,3,4,5,6,7,8,9</td>\n",
       "      <td>1</td>\n",
       "      <td>18</td>\n",
       "      <td>24</td>\n",
       "      <td>181</td>\n",
       "      <td>...</td>\n",
       "      <td>37817</td>\n",
       "      <td>Italy</td>\n",
       "      <td>2017-10-31 14:16:00</td>\n",
       "      <td>2017-02-11 11:45:00</td>\n",
       "      <td>6305</td>\n",
       "      <td>19</td>\n",
       "      <td>autorefill</td>\n",
       "      <td>coins</td>\n",
       "      <td>262 days 02:31:00</td>\n",
       "      <td>-263 days +21:29:00</td>\n",
       "    </tr>\n",
       "    <tr>\n",
       "      <th>224</th>\n",
       "      <td>892205850</td>\n",
       "      <td>34</td>\n",
       "      <td>307</td>\n",
       "      <td>1.0</td>\n",
       "      <td>Spain</td>\n",
       "      <td>1,2,3,4,5,6,7,8,9,10,11,12,14,15,17,18,19</td>\n",
       "      <td>1</td>\n",
       "      <td>31</td>\n",
       "      <td>37</td>\n",
       "      <td>13</td>\n",
       "      <td>...</td>\n",
       "      <td>5941</td>\n",
       "      <td>Spain</td>\n",
       "      <td>2017-10-18 19:20:00</td>\n",
       "      <td>2017-02-11 00:13:00</td>\n",
       "      <td>5408</td>\n",
       "      <td>147</td>\n",
       "      <td>promo_09</td>\n",
       "      <td>premium_no_trial</td>\n",
       "      <td>249 days 19:07:00</td>\n",
       "      <td>-250 days +04:53:00</td>\n",
       "    </tr>\n",
       "    <tr>\n",
       "      <th>...</th>\n",
       "      <td>...</td>\n",
       "      <td>...</td>\n",
       "      <td>...</td>\n",
       "      <td>...</td>\n",
       "      <td>...</td>\n",
       "      <td>...</td>\n",
       "      <td>...</td>\n",
       "      <td>...</td>\n",
       "      <td>...</td>\n",
       "      <td>...</td>\n",
       "      <td>...</td>\n",
       "      <td>...</td>\n",
       "      <td>...</td>\n",
       "      <td>...</td>\n",
       "      <td>...</td>\n",
       "      <td>...</td>\n",
       "      <td>...</td>\n",
       "      <td>...</td>\n",
       "      <td>...</td>\n",
       "      <td>...</td>\n",
       "      <td>...</td>\n",
       "    </tr>\n",
       "    <tr>\n",
       "      <th>8</th>\n",
       "      <td>891343671</td>\n",
       "      <td>26</td>\n",
       "      <td>0</td>\n",
       "      <td>24.0</td>\n",
       "      <td>France</td>\n",
       "      <td>1,2,3,4,5,6,7,8,9</td>\n",
       "      <td>1</td>\n",
       "      <td>23</td>\n",
       "      <td>35</td>\n",
       "      <td>37</td>\n",
       "      <td>...</td>\n",
       "      <td>21580</td>\n",
       "      <td>France</td>\n",
       "      <td>2017-05-11 13:42:00</td>\n",
       "      <td>2017-12-11 16:05:00</td>\n",
       "      <td>16549</td>\n",
       "      <td>147</td>\n",
       "      <td>autoreply_message</td>\n",
       "      <td>trial_premium</td>\n",
       "      <td>-215 days +21:37:00</td>\n",
       "      <td>214 days 02:23:00</td>\n",
       "    </tr>\n",
       "    <tr>\n",
       "      <th>239</th>\n",
       "      <td>891447105</td>\n",
       "      <td>32</td>\n",
       "      <td>531</td>\n",
       "      <td>4.0</td>\n",
       "      <td>United Kingdom (Great Britain)</td>\n",
       "      <td>1,2,3,4,5,6,7,8,9</td>\n",
       "      <td>1</td>\n",
       "      <td>29</td>\n",
       "      <td>35</td>\n",
       "      <td>143</td>\n",
       "      <td>...</td>\n",
       "      <td>18070</td>\n",
       "      <td>United Kingdom (Great Britain)</td>\n",
       "      <td>2017-03-11 17:05:00</td>\n",
       "      <td>2017-11-11 04:23:00</td>\n",
       "      <td>7319</td>\n",
       "      <td>147</td>\n",
       "      <td>fans</td>\n",
       "      <td>premium_no_trial</td>\n",
       "      <td>-245 days +12:42:00</td>\n",
       "      <td>244 days 11:18:00</td>\n",
       "    </tr>\n",
       "    <tr>\n",
       "      <th>115</th>\n",
       "      <td>891558921</td>\n",
       "      <td>38</td>\n",
       "      <td>470</td>\n",
       "      <td>6.0</td>\n",
       "      <td>United States of America</td>\n",
       "      <td>9,11</td>\n",
       "      <td>1</td>\n",
       "      <td>22</td>\n",
       "      <td>40</td>\n",
       "      <td>17</td>\n",
       "      <td>...</td>\n",
       "      <td>9997</td>\n",
       "      <td>United States of America</td>\n",
       "      <td>2017-01-11 03:07:00</td>\n",
       "      <td>2017-10-11 09:05:00</td>\n",
       "      <td>9100</td>\n",
       "      <td>147</td>\n",
       "      <td>left_sidebar_menu</td>\n",
       "      <td>premium_no_trial</td>\n",
       "      <td>-274 days +18:02:00</td>\n",
       "      <td>273 days 05:58:00</td>\n",
       "    </tr>\n",
       "    <tr>\n",
       "      <th>116</th>\n",
       "      <td>891558921</td>\n",
       "      <td>38</td>\n",
       "      <td>470</td>\n",
       "      <td>6.0</td>\n",
       "      <td>United States of America</td>\n",
       "      <td>9,11</td>\n",
       "      <td>1</td>\n",
       "      <td>22</td>\n",
       "      <td>40</td>\n",
       "      <td>17</td>\n",
       "      <td>...</td>\n",
       "      <td>9997</td>\n",
       "      <td>United States of America</td>\n",
       "      <td>2017-01-11 03:07:00</td>\n",
       "      <td>2017-10-11 09:08:00</td>\n",
       "      <td>897</td>\n",
       "      <td>146</td>\n",
       "      <td>menu</td>\n",
       "      <td>coins</td>\n",
       "      <td>-274 days +17:59:00</td>\n",
       "      <td>273 days 06:01:00</td>\n",
       "    </tr>\n",
       "    <tr>\n",
       "      <th>71</th>\n",
       "      <td>891508155</td>\n",
       "      <td>34</td>\n",
       "      <td>101</td>\n",
       "      <td>1.0</td>\n",
       "      <td>Latvia</td>\n",
       "      <td>1,2,3,4,5,6,7,8,9,10,11,12,13</td>\n",
       "      <td>1</td>\n",
       "      <td>20</td>\n",
       "      <td>32</td>\n",
       "      <td>226</td>\n",
       "      <td>...</td>\n",
       "      <td>10101</td>\n",
       "      <td>Latvia</td>\n",
       "      <td>2017-02-11 09:46:00</td>\n",
       "      <td>2017-11-11 20:38:00</td>\n",
       "      <td>6357</td>\n",
       "      <td>147</td>\n",
       "      <td>promo_09</td>\n",
       "      <td>premium_no_trial</td>\n",
       "      <td>-274 days +13:08:00</td>\n",
       "      <td>273 days 10:52:00</td>\n",
       "    </tr>\n",
       "  </tbody>\n",
       "</table>\n",
       "<p>132 rows × 22 columns</p>\n",
       "</div>"
      ],
      "text/plain": [
       "           uid  age  attraction_coeff  coins                       country_x  \\\n",
       "151  891861594   32               328    5.0                           Chile   \n",
       "251  891861048   35               319    6.0                          Canada   \n",
       "118  892018248   22               114   16.0  United Kingdom (Great Britain)   \n",
       "5    891589239   21               303   37.0                           Italy   \n",
       "224  892205850   34               307    1.0                           Spain   \n",
       "..         ...  ...               ...    ...                             ...   \n",
       "8    891343671   26                 0   24.0                          France   \n",
       "239  891447105   32               531    4.0  United Kingdom (Great Britain)   \n",
       "115  891558921   38               470    6.0        United States of America   \n",
       "116  891558921   38               470    6.0        United States of America   \n",
       "71   891508155   34               101    1.0                          Latvia   \n",
       "\n",
       "                                            visit_days  gender  \\\n",
       "151  3,4,5,6,7,8,9,10,11,12,13,14,15,16,17,18,19,20,21       1   \n",
       "251                            1,2,3,4,5,6,7,8,9,10,16       1   \n",
       "118   2,3,4,5,6,7,8,9,10,11,12,13,14,16,17,18,20,21,23       1   \n",
       "5                                    1,2,3,4,5,6,7,8,9       1   \n",
       "224          1,2,3,4,5,6,7,8,9,10,11,12,14,15,17,18,19       1   \n",
       "..                                                 ...     ...   \n",
       "8                                    1,2,3,4,5,6,7,8,9       1   \n",
       "239                                  1,2,3,4,5,6,7,8,9       1   \n",
       "115                                               9,11       1   \n",
       "116                                               9,11       1   \n",
       "71                       1,2,3,4,5,6,7,8,9,10,11,12,13       1   \n",
       "\n",
       "     age_filter_start  age_filter_end  views_count  ...  total_revenue  \\\n",
       "151                29              35          125  ...          24973   \n",
       "251                32              38          219  ...          21359   \n",
       "118                19              25           87  ...          15574   \n",
       "5                  18              24          181  ...          37817   \n",
       "224                31              37           13  ...           5941   \n",
       "..                ...             ...          ...  ...            ...   \n",
       "8                  23              35           37  ...          21580   \n",
       "239                29              35          143  ...          18070   \n",
       "115                22              40           17  ...           9997   \n",
       "116                22              40           17  ...           9997   \n",
       "71                 20              32          226  ...          10101   \n",
       "\n",
       "                          country_y           joined_at             paid_at  \\\n",
       "151                           Chile 2017-10-26 02:25:00 2017-01-11 04:37:00   \n",
       "251                          Canada 2017-10-26 02:55:00 2017-01-11 07:13:00   \n",
       "118  United Kingdom (Great Britain) 2017-10-22 19:50:00 2017-01-11 13:42:00   \n",
       "5                             Italy 2017-10-31 14:16:00 2017-02-11 11:45:00   \n",
       "224                           Spain 2017-10-18 19:20:00 2017-02-11 00:13:00   \n",
       "..                              ...                 ...                 ...   \n",
       "8                            France 2017-05-11 13:42:00 2017-12-11 16:05:00   \n",
       "239  United Kingdom (Great Britain) 2017-03-11 17:05:00 2017-11-11 04:23:00   \n",
       "115        United States of America 2017-01-11 03:07:00 2017-10-11 09:05:00   \n",
       "116        United States of America 2017-01-11 03:07:00 2017-10-11 09:08:00   \n",
       "71                           Latvia 2017-02-11 09:46:00 2017-11-11 20:38:00   \n",
       "\n",
       "    revenue payment_id          from_page      product_type  \\\n",
       "151    4004         19        empty_likes             coins   \n",
       "251    3523         19               none             coins   \n",
       "118    6032         19              likes             coins   \n",
       "5      6305         19         autorefill             coins   \n",
       "224    5408        147           promo_09  premium_no_trial   \n",
       "..      ...        ...                ...               ...   \n",
       "8     16549        147  autoreply_message     trial_premium   \n",
       "239    7319        147               fans  premium_no_trial   \n",
       "115    9100        147  left_sidebar_menu  premium_no_trial   \n",
       "116     897        146               menu             coins   \n",
       "71     6357        147           promo_09  premium_no_trial   \n",
       "\n",
       "              join-paid           paid-join  \n",
       "151   287 days 21:48:00 -288 days +02:12:00  \n",
       "251   287 days 19:42:00 -288 days +04:18:00  \n",
       "118   284 days 06:08:00 -285 days +17:52:00  \n",
       "5     262 days 02:31:00 -263 days +21:29:00  \n",
       "224   249 days 19:07:00 -250 days +04:53:00  \n",
       "..                  ...                 ...  \n",
       "8   -215 days +21:37:00   214 days 02:23:00  \n",
       "239 -245 days +12:42:00   244 days 11:18:00  \n",
       "115 -274 days +18:02:00   273 days 05:58:00  \n",
       "116 -274 days +17:59:00   273 days 06:01:00  \n",
       "71  -274 days +13:08:00   273 days 10:52:00  \n",
       "\n",
       "[132 rows x 22 columns]"
      ]
     },
     "execution_count": 8,
     "metadata": {},
     "output_type": "execute_result"
    }
   ],
   "source": [
    "test_group.dropna().sort_values('paid-join')"
   ]
  },
  {
   "cell_type": "code",
   "execution_count": 9,
   "id": "a27e100d",
   "metadata": {
    "scrolled": true
   },
   "outputs": [],
   "source": [
    "#Looking at how representative age groups are for each dataset\n",
    "\n",
    "bins = [16, 18, 25, 45, 80, 100]\n",
    "labels = ['Teen (16-18)', 'Young Adult (18-25)', 'Adult (25-45)', 'Elder (45-80)', 'Ancient (80-100)']\n",
    "test_group['ageGroup'] = pd.cut(test_group['age'], bins=bins, labels=labels, right=False)\n",
    "control_1_group['ageGroup'] = pd.cut(control_1_group['age'], bins=bins, labels=labels, right=False)\n",
    "control_2_group['ageGroup'] = pd.cut(control_2_group['age'], bins=bins, labels=labels, right=False)\n",
    "\n",
    "rep_test_group = test_group.groupby('ageGroup')['uid'].count()\n",
    "rep_control_1_group = control_1_group.groupby('ageGroup')['uid'].count()\n",
    "rep_control_2_group = control_2_group.groupby('ageGroup')['uid'].count()\n",
    "\n"
   ]
  },
  {
   "cell_type": "code",
   "execution_count": 10,
   "id": "ecc18300",
   "metadata": {},
   "outputs": [
    {
     "data": {
      "image/png": "[encoded data removed]",
      "text/plain": [
       "<Figure size 1080x360 with 3 Axes>"
      ]
     },
     "metadata": {
      "needs_background": "light"
     },
     "output_type": "display_data"
    }
   ],
   "source": [
    "figure, axes = plt.subplots(1, 3, sharex=True, figsize=(15,5))\n",
    "figure.suptitle('Repartition of age')\n",
    "\n",
    "g = sns.countplot(ax=axes[0],x = 'ageGroup', data=test_group.dropna(), alpha = 0.5, label = 'Age of test group')\n",
    "h = sns.countplot(ax=axes[1],x = 'ageGroup', data=control_1_group.dropna(), alpha = 0.5, label = 'Age of test group')\n",
    "i = sns.countplot(ax=axes[2],x = 'ageGroup', data=control_2_group.dropna(), alpha = 0.5, label = 'Age of test group')\n",
    "\n",
    "g.set_xticklabels(labels = labels, rotation=30)\n",
    "h.set_xticklabels(labels = labels, rotation=30)\n",
    "i.set_xticklabels(labels = labels, rotation=30)\n",
    "axes[0].set_title('Test Group')\n",
    "axes[1].set_title('Control group 1')\n",
    "axes[2].set_title('Control group 2')\n",
    "plt.show()"
   ]
  },
  {
   "cell_type": "markdown",
   "id": "d437667b",
   "metadata": {},
   "source": [
    "##### We can see that the group of age are not evenly representated in all groups, we will cut the outliers"
   ]
  },
  {
   "cell_type": "code",
   "execution_count": 11,
   "id": "9586dcc7",
   "metadata": {
    "scrolled": false
   },
   "outputs": [],
   "source": [
    "#Let's do the same to make sure proportion of attractiveness coefficients are well representated\n",
    "\n",
    "bins = [0, 100, 200, 300, 400, 500, 600, 700, 800, 900, 1000]\n",
    "labels = ['0-100', '101-200', '201-300', '301-400', '401-500', '501-600', '601-700', '701-800', '801-900', '901-1000']\n",
    "test_group['attraction_group'] = pd.cut(test_group['attraction_coeff'], bins=bins, labels=labels, right=False)\n",
    "control_1_group['attraction_group'] = pd.cut(control_1_group['attraction_coeff'], bins=bins, labels=labels, right=False)\n",
    "control_2_group['attraction_group'] = pd.cut(control_2_group['attraction_coeff'], bins=bins, labels=labels, right=False)\n",
    "\n",
    "beauty_test = test_group.groupby('attraction_group')['uid'].count()\n",
    "beauty_control_1 = control_1_group.groupby('attraction_group')['uid'].count()\n",
    "beauty_control_2 = control_2_group.groupby('attraction_group')['uid'].count()\n"
   ]
  },
  {
   "cell_type": "code",
   "execution_count": 12,
   "id": "27e767d0",
   "metadata": {},
   "outputs": [
    {
     "data": {
      "image/png": "[encoded data removed]",
      "text/plain": [
       "<Figure size 1080x360 with 3 Axes>"
      ]
     },
     "metadata": {
      "needs_background": "light"
     },
     "output_type": "display_data"
    }
   ],
   "source": [
    " figure, axes = plt.subplots(1, 3, sharex=True, figsize=(15,5))\n",
    "figure.suptitle('Repartition of attractiveness')\n",
    "\n",
    "g = sns.countplot(ax=axes[0],x = 'attraction_group', data=test_group.dropna(), alpha = 0.5, label = 'Attractiveness of test group')\n",
    "h = sns.countplot(ax=axes[1],x = 'attraction_group', data=control_1_group.dropna(), alpha = 0.5, label = 'Attractiveness of test group')\n",
    "i = sns.countplot(ax=axes[2],x = 'attraction_group', data=control_2_group.dropna(), alpha = 0.5, label = 'Attractiveness of test group')\n",
    "\n",
    "g.set_xticklabels(labels = labels, rotation=30)\n",
    "h.set_xticklabels(labels = labels, rotation=30)\n",
    "i.set_xticklabels(labels = labels, rotation=30)\n",
    "axes[0].set_title('Test Group')\n",
    "axes[1].set_title('Control group 1')\n",
    "axes[2].set_title('Control group 2')\n",
    "plt.show()"
   ]
  },
  {
   "cell_type": "markdown",
   "id": "0ca8df72",
   "metadata": {},
   "source": [
    "##### Attractiveness of all groups are also not evenly distributed"
   ]
  },
  {
   "cell_type": "markdown",
   "id": "d55c9ca1",
   "metadata": {},
   "source": [
    "##### Now, lets have a look at the countries represented in each group"
   ]
  },
  {
   "cell_type": "code",
   "execution_count": 13,
   "id": "11ea387b",
   "metadata": {},
   "outputs": [],
   "source": [
    "countries_test = test_group.dropna()['country_x'].unique()\n",
    "countries_test = countries_test.tolist()\n",
    "\n",
    "countries_control_1 = control_1_group.dropna()['country_x'].unique()\n",
    "countries_control_1 = countries_control_1.tolist()\n",
    "\n",
    "countries_control_2 = control_2_group.dropna()['country_x'].unique()\n",
    "countries_control_2 = countries_control_2.tolist()\n",
    "\n",
    "\n",
    "res1 = [x for x in countries_test + countries_control_1 if x not in countries_test or x not in countries_control_1]\n",
    "res2 = [x for x in countries_test + countries_control_2 if x not in countries_test or x not in countries_control_2]\n",
    "res3 = [x for x in countries_control_1 + countries_control_2 if x not in countries_control_1 or x not in countries_control_2]\n",
    "\n",
    "test1 = [x for x in countries_test + res1 if x in countries_test and x  in res1]\n",
    "test1 = list(set(test1))\n",
    "\n",
    "test2 = [x for x in countries_test + res2 if x in countries_test and x  in res2]\n",
    "test2 = list(set(test2))\n",
    "\n",
    "test3 = [x for x in countries_control_1 + res1 if x in countries_control_1 and x in res1]\n",
    "test3 = list(set(test3))\n",
    "\n",
    "test4 = [x for x in countries_control_2 + res2 if x in countries_control_2 and x in res2]\n",
    "test4 = list(set(test4))\n",
    "\n",
    "group1 = [x for x in countries_control_1 + res3 if x in countries_control_1 and x  in res3]\n",
    "group1 = list(set(group1))\n",
    "\n",
    "group2 = [x for x in countries_control_2 + res3 if x in countries_control_2 and x  in res3]\n",
    "group2 = list(set(group2))"
   ]
  },
  {
   "cell_type": "code",
   "execution_count": 14,
   "id": "1b270e77",
   "metadata": {},
   "outputs": [
    {
     "name": "stdout",
     "output_type": "stream",
     "text": [
      "Test group but not control group 1 : ['Belgium', 'Latvia', 'Germany']\n",
      "Test group but not control group 2 : ['Canada', 'Latvia']\n",
      "Control group 1 but not test group : ['Portugal', 'Turkey']\n",
      "Control group 2 but not test group : ['Portugal', 'Switzerland', 'Turkey', 'Austria']\n",
      "Control group 1 but not 2 : ['Canada']\n",
      "Control group 2 but not 1 : ['Belgium', 'Austria', 'Germany', 'Switzerland']\n"
     ]
    }
   ],
   "source": [
    "print('Test group but not control group 1 : ' + str(test1))\n",
    "print('Test group but not control group 2 : ' + str(test2))\n",
    "print('Control group 1 but not test group : ' + str(test3))\n",
    "print('Control group 2 but not test group : ' + str(test4))\n",
    "print('Control group 1 but not 2 : ' + str(group1))\n",
    "print('Control group 2 but not 1 : ' + str(group2))"
   ]
  },
  {
   "cell_type": "markdown",
   "id": "174561ed",
   "metadata": {},
   "source": [
    "##### Those results are very problematic to analyse the results of an A/B testing. There is a lot of variance in the provenance of users from all groups, which can cause a lot of unwanted and uncalculated variance in understanding if our test was a success or not. There is a lot of variance in behaviors of customers from different countries. When performing A/B testing, we are supposed to minimize the variablility to isolate the factor we are trying to evaluate. "
   ]
  },
  {
   "cell_type": "code",
   "execution_count": 15,
   "id": "326c388f",
   "metadata": {},
   "outputs": [],
   "source": [
    "#Reimporting the data to have full unedited datasets to perform metrics calculation\n",
    "\n",
    "#Test group\n",
    "users_test = pd.read_csv('users_test.csv', sep=';')\n",
    "transactions_test = pd.read_csv('transactions_test.csv', sep=';') \n",
    "test_group = users_test.merge(transactions_test,how='inner',on ='uid')\n",
    "\n",
    "#Control1\n",
    "users_control_1 = pd.read_csv('users_control_1.csv', sep=';')\n",
    "transactions_control_1 = pd.read_csv('transactions_control_1.csv', sep=';') \n",
    "control_1_group = users_control_1.merge(transactions_control_1,how='inner',on ='uid')\n",
    "\n",
    "#Control2\n",
    "users_control_2 = pd.read_csv('users_control_2.csv', sep=';')\n",
    "transactions_control_2 = pd.read_csv('transactions_control_2.csv', sep=';') \n",
    "control_2_group = users_control_2.merge(transactions_control_2,how='inner',on ='uid')"
   ]
  },
  {
   "cell_type": "code",
   "execution_count": 16,
   "id": "2462f7f0",
   "metadata": {},
   "outputs": [],
   "source": [
    "dfs_list = [test_group,control_1_group,control_2_group]"
   ]
  },
  {
   "cell_type": "code",
   "execution_count": 17,
   "id": "eee080eb",
   "metadata": {},
   "outputs": [],
   "source": [
    "for i in range(0,len(dfs_list)):\n",
    "    tmp = dfs_list[i][(dfs_list[i]['paid_at']>='2017-01-11')&(dfs_list[i]['paid_at']<='2017-12-11')]\n",
    "    tmp = tmp[(tmp['joined_at']>='2017-01-11')&(tmp['joined_at']<='2017-10-31')]\n",
    "    tmp = tmp[(tmp['age']>=18)&(tmp['age']<=80)]\n",
    "    tmp = tmp[(tmp['attraction_coeff']>=100)&(tmp['attraction_coeff']<=600)]\n",
    "    tmp = tmp.drop_duplicates()\n",
    "    dfs_list[i] = tmp"
   ]
  },
  {
   "cell_type": "code",
   "execution_count": 18,
   "id": "b16fc9d0",
   "metadata": {},
   "outputs": [],
   "source": [
    "test_group = dfs_list[0]\n",
    "control_1_group = dfs_list[1]\n",
    "control_2_group = dfs_list[2]"
   ]
  },
  {
   "cell_type": "code",
   "execution_count": 19,
   "id": "91be23dc",
   "metadata": {},
   "outputs": [
    {
     "name": "stdout",
     "output_type": "stream",
     "text": [
      "<class 'pandas.core.frame.DataFrame'>\n",
      "Int64Index: 183 entries, 1 to 272\n",
      "Data columns (total 20 columns):\n",
      " #   Column            Non-Null Count  Dtype  \n",
      "---  ------            --------------  -----  \n",
      " 0   uid               183 non-null    int64  \n",
      " 1   age               183 non-null    int64  \n",
      " 2   attraction_coeff  183 non-null    int64  \n",
      " 3   coins             108 non-null    float64\n",
      " 4   country_x         183 non-null    object \n",
      " 5   visit_days        172 non-null    object \n",
      " 6   gender            183 non-null    int64  \n",
      " 7   age_filter_start  183 non-null    int64  \n",
      " 8   age_filter_end    183 non-null    int64  \n",
      " 9   views_count       183 non-null    int64  \n",
      " 10  was_premium       179 non-null    float64\n",
      " 11  is_premium        161 non-null    float64\n",
      " 12  total_revenue     183 non-null    int64  \n",
      " 13  country_y         183 non-null    object \n",
      " 14  joined_at         183 non-null    object \n",
      " 15  paid_at           183 non-null    object \n",
      " 16  revenue           183 non-null    int64  \n",
      " 17  payment_id        183 non-null    int64  \n",
      " 18  from_page         183 non-null    object \n",
      " 19  product_type      183 non-null    object \n",
      "dtypes: float64(3), int64(10), object(7)\n",
      "memory usage: 30.0+ KB\n"
     ]
    }
   ],
   "source": [
    "test_group.info()"
   ]
  },
  {
   "cell_type": "code",
   "execution_count": 20,
   "id": "d284e6e6",
   "metadata": {},
   "outputs": [
    {
     "name": "stdout",
     "output_type": "stream",
     "text": [
      "<class 'pandas.core.frame.DataFrame'>\n",
      "Int64Index: 275 entries, 0 to 376\n",
      "Data columns (total 20 columns):\n",
      " #   Column            Non-Null Count  Dtype  \n",
      "---  ------            --------------  -----  \n",
      " 0   uid               275 non-null    int64  \n",
      " 1   age               275 non-null    int64  \n",
      " 2   attraction_coeff  275 non-null    int64  \n",
      " 3   coins             178 non-null    float64\n",
      " 4   country_x         275 non-null    object \n",
      " 5   visit_days        271 non-null    object \n",
      " 6   gender            275 non-null    int64  \n",
      " 7   age_filter_start  275 non-null    int64  \n",
      " 8   age_filter_end    275 non-null    int64  \n",
      " 9   views_count       275 non-null    int64  \n",
      " 10  was_premium       256 non-null    float64\n",
      " 11  is_premium        221 non-null    float64\n",
      " 12  total_revenue     275 non-null    int64  \n",
      " 13  country_y         275 non-null    object \n",
      " 14  joined_at         275 non-null    object \n",
      " 15  paid_at           275 non-null    object \n",
      " 16  revenue           275 non-null    float64\n",
      " 17  payment_id        275 non-null    float64\n",
      " 18  from_page         275 non-null    object \n",
      " 19  product_type      275 non-null    object \n",
      "dtypes: float64(5), int64(8), object(7)\n",
      "memory usage: 45.1+ KB\n"
     ]
    }
   ],
   "source": [
    "control_1_group.info()"
   ]
  },
  {
   "cell_type": "markdown",
   "id": "30d89020",
   "metadata": {},
   "source": [
    "Let's see the distribution of revenues received by each client"
   ]
  },
  {
   "cell_type": "code",
   "execution_count": 21,
   "id": "8117f8e5",
   "metadata": {},
   "outputs": [],
   "source": [
    "all_purchases_test = test_group.groupby(['uid'], as_index=False) \\\n",
    "    .agg({'revenue': 'sum'}) \\\n",
    "    .sort_values('revenue') \n",
    "\n",
    "all_purchases_1 = control_1_group.groupby(['uid'], as_index=False) \\\n",
    "    .agg({'revenue': 'sum'}) \\\n",
    "    .sort_values('revenue') \n",
    "\n",
    "all_purchases_2 = control_2_group.groupby(['uid'], as_index=False) \\\n",
    "    .agg({'revenue': 'sum'}) \\\n",
    "    .sort_values('revenue')"
   ]
  },
  {
   "cell_type": "code",
   "execution_count": 22,
   "id": "fa44eb57",
   "metadata": {},
   "outputs": [
    {
     "name": "stderr",
     "output_type": "stream",
     "text": [
      "/opt/tljh/user/lib/python3.7/site-packages/seaborn/distributions.py:2557: FutureWarning: `distplot` is a deprecated function and will be removed in a future version. Please adapt your code to use either `displot` (a figure-level function with similar flexibility) or `histplot` (an axes-level function for histograms).\n",
      "  warnings.warn(msg, FutureWarning)\n"
     ]
    },
    {
     "data": {
      "text/plain": [
       "<matplotlib.axes._subplots.AxesSubplot at 0x7f5d5dd829e8>"
      ]
     },
     "execution_count": 22,
     "metadata": {},
     "output_type": "execute_result"
    },
    {
     "data": {
      "image/png": "[encoded data removed]",
      "text/plain": [
       "<Figure size 432x288 with 1 Axes>"
      ]
     },
     "metadata": {
      "needs_background": "light"
     },
     "output_type": "display_data"
    }
   ],
   "source": [
    "sns.distplot(all_purchases_test.revenue, kde=False)\n",
    "sns.distplot(all_purchases_1.revenue, kde=False)\n",
    "sns.distplot(all_purchases_2.revenue, kde=False)"
   ]
  },
  {
   "cell_type": "markdown",
   "id": "d78f0507",
   "metadata": {},
   "source": [
    "Well, it's not the best visualisation but we still can see that everything that is bigger than 50k could be counted as an outlier. We will remove that part of datasets."
   ]
  },
  {
   "cell_type": "code",
   "execution_count": 23,
   "id": "f1ec767d",
   "metadata": {},
   "outputs": [],
   "source": [
    "all_purchases_test = all_purchases_test[all_purchases_test['revenue']<=50_000]\n",
    "all_purchases_1 = all_purchases_1[all_purchases_1['revenue']<=50_000]\n",
    "all_purchases_2 = all_purchases_2[all_purchases_2['revenue']<=50_000]"
   ]
  },
  {
   "cell_type": "code",
   "execution_count": 24,
   "id": "83f17b2b",
   "metadata": {},
   "outputs": [
    {
     "name": "stderr",
     "output_type": "stream",
     "text": [
      "/opt/tljh/user/lib/python3.7/site-packages/seaborn/distributions.py:2557: FutureWarning: `distplot` is a deprecated function and will be removed in a future version. Please adapt your code to use either `displot` (a figure-level function with similar flexibility) or `histplot` (an axes-level function for histograms).\n",
      "  warnings.warn(msg, FutureWarning)\n"
     ]
    },
    {
     "data": {
      "text/plain": [
       "<matplotlib.axes._subplots.AxesSubplot at 0x7f5d5b18b048>"
      ]
     },
     "execution_count": 24,
     "metadata": {},
     "output_type": "execute_result"
    },
    {
     "data": {
      "image/png": "[encoded data removed]",
      "text/plain": [
       "<Figure size 432x288 with 1 Axes>"
      ]
     },
     "metadata": {
      "needs_background": "light"
     },
     "output_type": "display_data"
    }
   ],
   "source": [
    "sns.distplot(all_purchases_test.revenue, kde=False)\n",
    "sns.distplot(all_purchases_1.revenue, kde=False)\n",
    "sns.distplot(all_purchases_2.revenue, kde=False)"
   ]
  },
  {
   "cell_type": "markdown",
   "id": "79a6600c",
   "metadata": {},
   "source": [
    "Looks better, now!"
   ]
  },
  {
   "cell_type": "markdown",
   "id": "cb833471",
   "metadata": {},
   "source": [
    "# Conclusion on EDA\n",
    "\n",
    "In this part of project we had chance to take a closer look on data. What we saw:\n",
    "- Date ranges are different in datasets. Control group 1 has longer range than other datasets, we standartized it.\n",
    "- In test or control groups, sometime users registered before and made payment after, or the other way around, users paid and then register. In real world I would ask buisness team how the process of registering/paying works to see what do we consider 'new users'. It's important to understad business logics (client experience) before running analysis on data.\n",
    "- Test group has two additional categories of age (Teen and Ancient). We removed that from our final dataset\n",
    "- Attractiveness level range in test group is different comparing to conrol groups, we standartized it.\n",
    "- Set of countries is also different for test and control groups. That is a very bad news that prevented me from futher data analysis. Clients from different countries have way to different life experience (level of life, culture code, etc.). That gives us understanding that our A/B test receives external effect which we cannot really control.\n",
    "- According to data some clients brought way too big revenues, which appears to be outliers. We cut those lines out."
   ]
  },
  {
   "cell_type": "markdown",
   "id": "fb732260",
   "metadata": {},
   "source": [
    "# 2. Metrics selection"
   ]
  },
  {
   "cell_type": "markdown",
   "id": "947d0b19",
   "metadata": {},
   "source": [
    "To estimate the result of A/B test we will analyse the most important measure - revenue per client, who made a purchase. We will also evaluate conversion rate regarding to premium and payment."
   ]
  },
  {
   "cell_type": "markdown",
   "id": "12087566",
   "metadata": {},
   "source": [
    "# 3. Hypothesis testing "
   ]
  },
  {
   "cell_type": "markdown",
   "id": "1dd68d8e",
   "metadata": {},
   "source": [
    "#### After reviewing the datasets, we would already say that we cannot conclude anything from that experiment because of a few factors. First, only by looking at how the test was conducted, we can say that it's not a proper way to conduct an A/B testing. When making research on the effect of something, we usually focus on that one thing. On the test that was conducted, there was too many factors of variability ; the cost of premium subscription, new countries and new payment system. Moreover, we have no details on which countries are the \"new\" countries which makes it impossible for us to isolate this variable, nor any information about payment system in out dataset and we don't even have information about old and new price for the premium subscription. \n",
    "\n",
    "#### However, for the sake of this project, we will conduct some calculation to see statistical differences between the groups.We will be using a confidence interval of 0.05\n"
   ]
  },
  {
   "cell_type": "markdown",
   "id": "d515404a",
   "metadata": {},
   "source": [
    "## 3.1 revenue per client analysis"
   ]
  },
  {
   "cell_type": "code",
   "execution_count": 25,
   "id": "34174e2c",
   "metadata": {},
   "outputs": [],
   "source": [
    "prep_test = all_purchases_test\n",
    "prep_test['revenue_not_null'] = prep_test[['revenue']].fillna(value=0)\n",
    "\n",
    "prep_1 = all_purchases_1\n",
    "prep_1['revenue_not_null'] = prep_1[['revenue']].fillna(value=0)\n",
    "\n",
    "prep_2 = all_purchases_2\n",
    "prep_2['revenue_not_null'] = prep_2[['revenue']].fillna(value=0)"
   ]
  },
  {
   "cell_type": "code",
   "execution_count": 26,
   "id": "28630f7d",
   "metadata": {},
   "outputs": [],
   "source": [
    "t_group_premium = prep_test['revenue_not_null']\n",
    "t_1_premium = prep_1['revenue_not_null']\n",
    "t_2_premium = prep_2['revenue_not_null']"
   ]
  },
  {
   "cell_type": "markdown",
   "id": "41c493ff",
   "metadata": {},
   "source": [
    "##### The null hypothesis for Levene’s test is that the revenues we're comparing all have equal population variances. Our alpha value (confidence threshold) is 0.05. \n",
    "##### If p-value <= 0.05, we will have to reject the null hypotesis, meaning that there would be a statistical difference between the datas in the datasets."
   ]
  },
  {
   "cell_type": "code",
   "execution_count": 27,
   "id": "2d582eda",
   "metadata": {},
   "outputs": [
    {
     "data": {
      "text/plain": [
       "LeveneResult(statistic=3.457482052205209, pvalue=0.03264812782902047)"
      ]
     },
     "execution_count": 27,
     "metadata": {},
     "output_type": "execute_result"
    }
   ],
   "source": [
    "scipy.levene(t_group_premium,t_1_premium, t_2_premium, center='mean')"
   ]
  },
  {
   "cell_type": "markdown",
   "id": "c1dd2d48",
   "metadata": {},
   "source": [
    "We see that p-value is less than threshold of 5%, that means that we reject null hypothesis. There is no homogeneity"
   ]
  },
  {
   "cell_type": "markdown",
   "id": "e4aed841",
   "metadata": {},
   "source": [
    "#### Since we observed that the variances between our control groups and our test groups are not the same, we need to run a Welch's test instead of a regular Fisher's test"
   ]
  },
  {
   "cell_type": "code",
   "execution_count": 28,
   "id": "f92dd739",
   "metadata": {},
   "outputs": [
    {
     "data": {
      "text/plain": [
       "Ttest_indResult(statistic=3.0335884946633422, pvalue=0.0028482656083073554)"
      ]
     },
     "execution_count": 28,
     "metadata": {},
     "output_type": "execute_result"
    }
   ],
   "source": [
    "scipy.ttest_ind(t_group_premium,t_1_premium, equal_var = False)"
   ]
  },
  {
   "cell_type": "code",
   "execution_count": 29,
   "id": "e6ac3a68",
   "metadata": {},
   "outputs": [
    {
     "data": {
      "text/plain": [
       "Ttest_indResult(statistic=2.7948361910485113, pvalue=0.005767672723147954)"
      ]
     },
     "execution_count": 29,
     "metadata": {},
     "output_type": "execute_result"
    }
   ],
   "source": [
    "scipy.ttest_ind(t_group_premium, t_2_premium, equal_var = False)"
   ]
  },
  {
   "cell_type": "markdown",
   "id": "74433a9b",
   "metadata": {},
   "source": [
    "#### There is no significant difference between test group and control groups."
   ]
  },
  {
   "cell_type": "markdown",
   "id": "cf90fe72",
   "metadata": {},
   "source": [
    "## 3.2 conversion rate analysis"
   ]
  },
  {
   "cell_type": "markdown",
   "id": "28873a0f",
   "metadata": {},
   "source": [
    "#### We are now going to calculate metrics on conversion rate, to see if our test had any effect on customer subscribing to premium. Our null hypotesis in this test is that there is no significant difference between our test group and control groups regarding the retention rate. We will still be using a confidence level of 5% for our hypotesis testing"
   ]
  },
  {
   "cell_type": "code",
   "execution_count": 30,
   "id": "9d4a4e9c",
   "metadata": {},
   "outputs": [],
   "source": [
    "alpha = 0.05"
   ]
  },
  {
   "cell_type": "code",
   "execution_count": 31,
   "id": "c027dd37",
   "metadata": {},
   "outputs": [],
   "source": [
    "#Reimporting the data to have full unedited datasets to perform metrics calculation, but this time let's make the join \n",
    "#so we keep datas on users, even those who don't have a transaction, that way we can see who never registered and calculate\n",
    "#our conversion rates. we will still remove the same outliers we removed to perform our previous analysis\n",
    "\n",
    "#Test group\n",
    "users_test = pd.read_csv('users_test.csv', sep=';')\n",
    "transactions_test = pd.read_csv('transactions_test.csv', sep=';') \n",
    "test_group = users_test.merge(transactions_test,how='left',on ='uid')\n",
    "\n",
    "#Control1\n",
    "users_control_1 = pd.read_csv('users_control_1.csv', sep=';')\n",
    "transactions_control_1 = pd.read_csv('transactions_control_1.csv', sep=';') \n",
    "control_1_group = users_control_1.merge(transactions_control_1,how='left',on ='uid')\n",
    "\n",
    "#Control2\n",
    "users_control_2 = pd.read_csv('users_control_2.csv', sep=';')\n",
    "transactions_control_2 = pd.read_csv('transactions_control_2.csv', sep=';') \n",
    "control_2_group = users_control_2.merge(transactions_control_2,how='left',on ='uid')"
   ]
  },
  {
   "cell_type": "code",
   "execution_count": 32,
   "id": "146e0ce5",
   "metadata": {},
   "outputs": [],
   "source": [
    "dfs_list_2 = [test_group, control_1_group, control_2_group]\n",
    "\n",
    "for i in range(0,len(dfs_list_2)):\n",
    "    tmp = dfs_list_2[i]\n",
    "    tmp = tmp.fillna(value = {'paid_at' : 'unknown', 'joined_at' : 'unknown',\n",
    "                                      'coins' : 0, 'is_premium' : 0, 'revenue' : 0})\n",
    "    tmp = tmp[(tmp['paid_at']>='2017-01-11')&(tmp['paid_at']<='2017-12-11') | (tmp['paid_at'] == 'unknown')]\n",
    "    tmp = tmp[(tmp['joined_at']>='2017-01-11')&(tmp['joined_at']<='2017-10-31') | (tmp['joined_at'] == 'unknown')]\n",
    "    tmp = tmp[(tmp['age']>=18)&(tmp['age']<=80)]\n",
    "    tmp = tmp[(tmp['attraction_coeff']>=100)&(tmp['attraction_coeff']<=600)]\n",
    "    tmp = tmp.drop_duplicates()\n",
    "    dfs_list_2[i] = tmp\n",
    "    \n",
    "test_group = dfs_list_2[0]\n",
    "control_1_group = dfs_list_2[1]\n",
    "control_2_group = dfs_list_2[2]"
   ]
  },
  {
   "cell_type": "markdown",
   "id": "0f77350f",
   "metadata": {},
   "source": [
    "#### Let's now prepare our data for our first test on conversion rate. We will here look if the proportion of people who subscribed in our test group is bigger then the proportion of people who subscribed in our control groups. We are considering that our test group is the observed test that we will analyse against our control groups, our \"expected\" result."
   ]
  },
  {
   "cell_type": "code",
   "execution_count": 33,
   "id": "e73ede26",
   "metadata": {},
   "outputs": [],
   "source": [
    "test_subscribed = list(test_group.groupby('is_premium')['uid'].count())\n",
    "control_1_subscribed = list(control_1_group.groupby('is_premium')['uid'].count())\n",
    "control_2_subscribed = list(control_2_group.groupby('is_premium')['uid'].count())"
   ]
  },
  {
   "cell_type": "code",
   "execution_count": 34,
   "id": "7581041a",
   "metadata": {},
   "outputs": [],
   "source": [
    "#Let's calculate our totals for columns and rows, since it's required to calculate our chi2 expected values\n",
    "\n",
    "subscribe_list = test_subscribed, control_1_subscribed, control_2_subscribed\n",
    "subscribe = pd.DataFrame(subscribe_list, columns=['not_subscribed', 'subscribed'], index = ['test_group', 'control_1', 'control_2'])\n",
    "subscribe.loc[:,'total_row'] = subscribe.sum(axis = 1)\n",
    "subscribe.loc[\"total_column\"] = subscribe.sum()"
   ]
  },
  {
   "cell_type": "code",
   "execution_count": 35,
   "id": "12d629f9",
   "metadata": {},
   "outputs": [
    {
     "data": {
      "text/html": [
       "<div>\n",
       "<style scoped>\n",
       "    .dataframe tbody tr th:only-of-type {\n",
       "        vertical-align: middle;\n",
       "    }\n",
       "\n",
       "    .dataframe tbody tr th {\n",
       "        vertical-align: top;\n",
       "    }\n",
       "\n",
       "    .dataframe thead th {\n",
       "        text-align: right;\n",
       "    }\n",
       "</style>\n",
       "<table border=\"1\" class=\"dataframe\">\n",
       "  <thead>\n",
       "    <tr style=\"text-align: right;\">\n",
       "      <th></th>\n",
       "      <th>not_subscribed</th>\n",
       "      <th>subscribed</th>\n",
       "      <th>total_row</th>\n",
       "    </tr>\n",
       "  </thead>\n",
       "  <tbody>\n",
       "    <tr>\n",
       "      <th>test_group</th>\n",
       "      <td>1616</td>\n",
       "      <td>176</td>\n",
       "      <td>1792</td>\n",
       "    </tr>\n",
       "    <tr>\n",
       "      <th>control_1</th>\n",
       "      <td>1630</td>\n",
       "      <td>245</td>\n",
       "      <td>1875</td>\n",
       "    </tr>\n",
       "    <tr>\n",
       "      <th>control_2</th>\n",
       "      <td>1562</td>\n",
       "      <td>219</td>\n",
       "      <td>1781</td>\n",
       "    </tr>\n",
       "    <tr>\n",
       "      <th>total_column</th>\n",
       "      <td>4808</td>\n",
       "      <td>640</td>\n",
       "      <td>5448</td>\n",
       "    </tr>\n",
       "  </tbody>\n",
       "</table>\n",
       "</div>"
      ],
      "text/plain": [
       "              not_subscribed  subscribed  total_row\n",
       "test_group              1616         176       1792\n",
       "control_1               1630         245       1875\n",
       "control_2               1562         219       1781\n",
       "total_column            4808         640       5448"
      ]
     },
     "execution_count": 35,
     "metadata": {},
     "output_type": "execute_result"
    }
   ],
   "source": [
    "subscribe"
   ]
  },
  {
   "cell_type": "markdown",
   "id": "6cc4eb5a",
   "metadata": {},
   "source": [
    "##### we now need to calculate our expected values"
   ]
  },
  {
   "cell_type": "code",
   "execution_count": 36,
   "id": "babff7ee",
   "metadata": {},
   "outputs": [],
   "source": [
    "subscribe_expected =  np.outer(subscribe[\"total_row\"][0:3],\n",
    "                     subscribe.loc[\"total_column\"][0:2]) / (subscribe['total_row']['total_column'])\n",
    " \n",
    "subscribe_expected = pd.DataFrame(subscribe_expected)\n",
    " \n",
    "subscribe_expected.columns = [\"not_subscribed\",\"subscribed\"]\n",
    "subscribe_expected.index = [\"test_group\",\"control_1\",\"control_2\"]\n",
    "expected = subscribe_expected.copy()\n",
    "subscribe_expected.loc[:,'total_row'] = subscribe_expected.sum(axis = 1)\n",
    "subscribe_expected.loc[\"total_column\"] = subscribe_expected.sum()"
   ]
  },
  {
   "cell_type": "code",
   "execution_count": 37,
   "id": "fb0cebb6",
   "metadata": {},
   "outputs": [],
   "source": [
    "observed = subscribe.iloc[0:3,0:2]"
   ]
  },
  {
   "cell_type": "code",
   "execution_count": 38,
   "id": "310099f1",
   "metadata": {},
   "outputs": [],
   "source": [
    "observed_test = [subscribe['not_subscribed'][0], subscribe['subscribed'][0]]\n",
    "observed_control_1 = [subscribe['not_subscribed'][1], subscribe['subscribed'][1]]\n",
    "observed_control_2 = [subscribe['not_subscribed'][2], subscribe['subscribed'][2]]\n",
    "\n",
    "expected_test = [subscribe_expected['not_subscribed'][0], subscribe_expected['subscribed'][0]]\n",
    "expected_control_1 = [subscribe_expected['not_subscribed'][1], subscribe_expected['subscribed'][1]]\n",
    "expected_control_2 = [subscribe_expected['not_subscribed'][2], subscribe_expected['subscribed'][2]]\n"
   ]
  },
  {
   "cell_type": "code",
   "execution_count": 39,
   "id": "8d518431",
   "metadata": {},
   "outputs": [
    {
     "name": "stdout",
     "output_type": "stream",
     "text": [
      "Chi-squared test statistic: 6.411816615165199\n",
      "p value is 0.011336337696838927\n",
      "Dependent (reject H0), there is a dependency between being a member of the test group and subscribing to premium\n"
     ]
    }
   ],
   "source": [
    "# Perform the chi-squared test on the test group\n",
    "chi2, p = scipy.chisquare(observed_test, f_exp=expected_test)\n",
    "\n",
    "# Print the test statistic and p-value\n",
    "print(\"Chi-squared test statistic:\", chi2)\n",
    "\n",
    "\n",
    "\n",
    "print(\"p value is \" + str(p))\n",
    "if p <= alpha:\n",
    "    print('Dependent (reject H0), there is a dependency between being a member of the test group and subscribing to premium')\n",
    "else:\n",
    "    print('Independent (H0 holds true)m there is no dependency between being a member of the test group and subscribing to \\npremium')"
   ]
  },
  {
   "cell_type": "code",
   "execution_count": 40,
   "id": "dae22dc4",
   "metadata": {},
   "outputs": [
    {
     "name": "stdout",
     "output_type": "stream",
     "text": [
      "Chi-squared test statistic: 3.1475765391015025\n",
      "p value is 0.07603981873996193\n",
      "Independent (H0 holds true), there is no dependency between being a member of the first control group and subscribing to \n",
      "premium\n"
     ]
    }
   ],
   "source": [
    "# Perform the chi-squared test on control group 1\n",
    "chi2, p = scipy.chisquare(observed_control_1, f_exp=expected_control_1)\n",
    "\n",
    "# Print the test statistic and p-value\n",
    "print(\"Chi-squared test statistic:\", chi2)\n",
    "\n",
    "\n",
    "print(\"p value is \" + str(p))\n",
    "if p <= alpha:\n",
    "    print('Dependent (reject H0), there is a dependency between being a member of the first control group and subscribing to premium')\n",
    "else:\n",
    "    print('Independent (H0 holds true), there is no dependency between being a member of the first control group and subscribing to \\npremium')"
   ]
  },
  {
   "cell_type": "code",
   "execution_count": 41,
   "id": "669babea",
   "metadata": {},
   "outputs": [
    {
     "name": "stdout",
     "output_type": "stream",
     "text": [
      "Chi-squared test statistic: 0.517832914167946\n",
      "p value is 0.47176756586309554\n",
      "Independent (H0 holds true), there is no dependency between being a member of the second control group and subscribing to \n",
      "premium\n"
     ]
    }
   ],
   "source": [
    "# Perform the chi-squared test on control group 2\n",
    "chi2, p = scipy.chisquare(observed_control_2, f_exp=expected_control_2)\n",
    "\n",
    "# Print the test statistic and p-value\n",
    "print(\"Chi-squared test statistic:\", chi2)\n",
    "\n",
    "print(\"p value is \" + str(p))\n",
    "if p <= alpha:\n",
    "    print('Dependent (reject H0), there is a dependency between being a member of the second control group and subscribing to premium')\n",
    "else:\n",
    "    print('Independent (H0 holds true), there is no dependency between being a member of the second control group and subscribing to \\npremium')"
   ]
  },
  {
   "cell_type": "code",
   "execution_count": 42,
   "id": "4b7d01d5",
   "metadata": {},
   "outputs": [
    {
     "data": {
      "text/html": [
       "<div>\n",
       "<style scoped>\n",
       "    .dataframe tbody tr th:only-of-type {\n",
       "        vertical-align: middle;\n",
       "    }\n",
       "\n",
       "    .dataframe tbody tr th {\n",
       "        vertical-align: top;\n",
       "    }\n",
       "\n",
       "    .dataframe thead th {\n",
       "        text-align: right;\n",
       "    }\n",
       "</style>\n",
       "<table border=\"1\" class=\"dataframe\">\n",
       "  <thead>\n",
       "    <tr style=\"text-align: right;\">\n",
       "      <th></th>\n",
       "      <th>not_subscribed</th>\n",
       "      <th>subscribed</th>\n",
       "      <th>total_row</th>\n",
       "    </tr>\n",
       "  </thead>\n",
       "  <tbody>\n",
       "    <tr>\n",
       "      <th>test_group</th>\n",
       "      <td>1616</td>\n",
       "      <td>176</td>\n",
       "      <td>1792</td>\n",
       "    </tr>\n",
       "    <tr>\n",
       "      <th>control_1</th>\n",
       "      <td>1630</td>\n",
       "      <td>245</td>\n",
       "      <td>1875</td>\n",
       "    </tr>\n",
       "    <tr>\n",
       "      <th>control_2</th>\n",
       "      <td>1562</td>\n",
       "      <td>219</td>\n",
       "      <td>1781</td>\n",
       "    </tr>\n",
       "    <tr>\n",
       "      <th>total_column</th>\n",
       "      <td>4808</td>\n",
       "      <td>640</td>\n",
       "      <td>5448</td>\n",
       "    </tr>\n",
       "  </tbody>\n",
       "</table>\n",
       "</div>"
      ],
      "text/plain": [
       "              not_subscribed  subscribed  total_row\n",
       "test_group              1616         176       1792\n",
       "control_1               1630         245       1875\n",
       "control_2               1562         219       1781\n",
       "total_column            4808         640       5448"
      ]
     },
     "execution_count": 42,
     "metadata": {},
     "output_type": "execute_result"
    }
   ],
   "source": [
    "subscribe"
   ]
  },
  {
   "cell_type": "code",
   "execution_count": 92,
   "id": "a1814b33",
   "metadata": {},
   "outputs": [
    {
     "data": {
      "text/html": [
       "<div>\n",
       "<style scoped>\n",
       "    .dataframe tbody tr th:only-of-type {\n",
       "        vertical-align: middle;\n",
       "    }\n",
       "\n",
       "    .dataframe tbody tr th {\n",
       "        vertical-align: top;\n",
       "    }\n",
       "\n",
       "    .dataframe thead th {\n",
       "        text-align: right;\n",
       "    }\n",
       "</style>\n",
       "<table border=\"1\" class=\"dataframe\">\n",
       "  <thead>\n",
       "    <tr style=\"text-align: right;\">\n",
       "      <th></th>\n",
       "      <th>not_subscribed</th>\n",
       "      <th>subscribed</th>\n",
       "      <th>total_row</th>\n",
       "    </tr>\n",
       "  </thead>\n",
       "  <tbody>\n",
       "    <tr>\n",
       "      <th>test_group</th>\n",
       "      <td>1581.486050</td>\n",
       "      <td>210.513950</td>\n",
       "      <td>1792.0</td>\n",
       "    </tr>\n",
       "    <tr>\n",
       "      <th>control_1</th>\n",
       "      <td>1654.735683</td>\n",
       "      <td>220.264317</td>\n",
       "      <td>1875.0</td>\n",
       "    </tr>\n",
       "    <tr>\n",
       "      <th>control_2</th>\n",
       "      <td>1571.778267</td>\n",
       "      <td>209.221733</td>\n",
       "      <td>1781.0</td>\n",
       "    </tr>\n",
       "    <tr>\n",
       "      <th>total_column</th>\n",
       "      <td>4808.000000</td>\n",
       "      <td>640.000000</td>\n",
       "      <td>5448.0</td>\n",
       "    </tr>\n",
       "  </tbody>\n",
       "</table>\n",
       "</div>"
      ],
      "text/plain": [
       "              not_subscribed  subscribed  total_row\n",
       "test_group       1581.486050  210.513950     1792.0\n",
       "control_1        1654.735683  220.264317     1875.0\n",
       "control_2        1571.778267  209.221733     1781.0\n",
       "total_column     4808.000000  640.000000     5448.0"
      ]
     },
     "execution_count": 92,
     "metadata": {},
     "output_type": "execute_result"
    }
   ],
   "source": [
    "subscribe_expected"
   ]
  },
  {
   "cell_type": "markdown",
   "id": "d02ba245",
   "metadata": {},
   "source": [
    "We saw while performing chi-square that there is a dependency between being a member of the test group and being subscribed to premium. When we look at the number and the difference between expected value and actual value, we can see that the dependency is a negative one. In other words, members of the test group tend to subscribe to premium less then member of the control groups. We can say that the experiement on A/B testing was not a success."
   ]
  },
  {
   "cell_type": "markdown",
   "id": "1444eb94",
   "metadata": {},
   "source": [
    "##### Let's now apply the chi-square test to see if there's a dependency in having a revenue or not."
   ]
  },
  {
   "cell_type": "code",
   "execution_count": 64,
   "id": "21f88416",
   "metadata": {},
   "outputs": [],
   "source": [
    "test_group['paid'] = test_group['total_revenue']\n",
    "control_1_group['paid'] = control_1_group['total_revenue']\n",
    "control_2_group['paid'] = control_2_group['total_revenue']\n",
    "\n",
    "m = test_group['total_revenue'] == 0\n",
    "test_group['paid'] = test_group['total_revenue'].where(m, 1)\n",
    "\n",
    "n = control_1_group['total_revenue'] == 0\n",
    "control_1_group['paid'] = control_1_group['total_revenue'].where(n, 1)\n",
    "\n",
    "o = control_2_group['total_revenue'] == 0\n",
    "control_2_group['paid'] = control_2_group['total_revenue'].where(o, 1)"
   ]
  },
  {
   "cell_type": "code",
   "execution_count": 67,
   "id": "22746e35",
   "metadata": {},
   "outputs": [],
   "source": [
    "test_paid = list(test_group.groupby('paid')['uid'].count())\n",
    "control_1_paid = list(control_1_group.groupby('paid')['uid'].count())\n",
    "control_2_paid = list(control_2_group.groupby('paid')['uid'].count())"
   ]
  },
  {
   "cell_type": "code",
   "execution_count": 78,
   "id": "46bcf01c",
   "metadata": {},
   "outputs": [],
   "source": [
    "#Let's calculate our totals for columns and rows, since it's required to calculate our chi2 expected values\n",
    "\n",
    "paid_list = test_paid, control_1_paid, control_2_paid\n",
    "paid = pd.DataFrame(paid_list, columns=['not_paid', 'paid'], index = ['test_group', 'control_1', 'control_2'])\n",
    "paid.loc[:,'total_row'] = paid.sum(axis = 1)\n",
    "paid.loc[\"total_column\"] = paid.sum()\n",
    "\n",
    "observed_paid_values = paid.iloc[0:3,0:2]"
   ]
  },
  {
   "cell_type": "markdown",
   "id": "46032895",
   "metadata": {},
   "source": [
    "##### Now, let's calculate our expected values"
   ]
  },
  {
   "cell_type": "code",
   "execution_count": 80,
   "id": "39f7f80b",
   "metadata": {},
   "outputs": [],
   "source": [
    "paid_expected =  np.outer(paid[\"total_row\"][0:3],\n",
    "                     paid.loc[\"total_column\"][0:2]) / (paid['total_row']['total_column'])\n",
    " \n",
    "paid_expected = pd.DataFrame(paid_expected)\n",
    "\n",
    "paid_expected.columns = [\"not_paid\",\"paid\"]\n",
    "paid_expected.index = [\"test_group\",\"control_1\",\"control_2\"]\n",
    "expected_paid_values = paid_expected.copy()\n",
    "paid_expected.loc[:,'total_row'] = paid_expected.sum(axis = 1)\n",
    "paid_expected.loc[\"total_column\"] = paid_expected.sum()"
   ]
  },
  {
   "cell_type": "code",
   "execution_count": 83,
   "id": "1b0bcc42",
   "metadata": {},
   "outputs": [],
   "source": [
    "observed_paid_test = [observed_paid_values['not_paid'][0], observed_paid_values['paid'][0]]\n",
    "observed_paid_test_1 = [observed_paid_values['not_paid'][1], observed_paid_values['paid'][1]]\n",
    "observed_paid_test_2 = [observed_paid_values['not_paid'][2], observed_paid_values['paid'][2]]\n",
    "\n",
    "expected_paid_values_test = [expected_paid_values['not_paid'][0], expected_paid_values['paid'][0]]\n",
    "expected_paid_values_1 = [expected_paid_values['not_paid'][1], expected_paid_values['paid'][1]]\n",
    "expected_paid_values_2 = [expected_paid_values['not_paid'][2], expected_paid_values['paid'][2]]\n"
   ]
  },
  {
   "cell_type": "code",
   "execution_count": 85,
   "id": "7f991457",
   "metadata": {},
   "outputs": [
    {
     "name": "stdout",
     "output_type": "stream",
     "text": [
      "Chi-squared test statistic: 10.018726237152563\n",
      "p value is 0.0015495659577059245\n",
      "Dependent (reject H0), there is a dependency between being a member of the test group and subscribing to premium\n"
     ]
    }
   ],
   "source": [
    "# Perform the chi-squared test on the test group\n",
    "chi2, p = scipy.chisquare(observed_paid_test, f_exp=expected_paid_values_test)\n",
    "\n",
    "# Print the test statistic and p-value\n",
    "print(\"Chi-squared test statistic:\", chi2)\n",
    "\n",
    "\n",
    "\n",
    "print(\"p value is \" + str(p))\n",
    "if p <= alpha:\n",
    "    print('Dependent (reject H0), there is a dependency between being a member of the test group and subscribing to premium')\n",
    "else:\n",
    "    print('Independent (H0 holds true)m there is no dependency between being a member of the test group and subscribing to \\npremium')"
   ]
  },
  {
   "cell_type": "code",
   "execution_count": 86,
   "id": "26881c34",
   "metadata": {},
   "outputs": [
    {
     "name": "stdout",
     "output_type": "stream",
     "text": [
      "Chi-squared test statistic: 6.527479739617007\n",
      "p value is 0.010622035530602281\n",
      "Dependent (reject H0), there is a dependency between being a member of the first control group and subscribing to premium\n"
     ]
    }
   ],
   "source": [
    "# Perform the chi-squared test on control group 1\n",
    "chi2, p = scipy.chisquare(observed_paid_test_1, f_exp=expected_paid_values_1)\n",
    "\n",
    "# Print the test statistic and p-value\n",
    "print(\"Chi-squared test statistic:\", chi2)\n",
    "\n",
    "\n",
    "print(\"p value is \" + str(p))\n",
    "if p <= alpha:\n",
    "    print('Dependent (reject H0), there is a dependency between being a member of the first control group and subscribing to premium')\n",
    "else:\n",
    "    print('Independent (H0 holds true), there is no dependency between being a member of the first control group and subscribing to \\npremium')"
   ]
  },
  {
   "cell_type": "code",
   "execution_count": 87,
   "id": "05a35591",
   "metadata": {},
   "outputs": [
    {
     "name": "stdout",
     "output_type": "stream",
     "text": [
      "Chi-squared test statistic: 0.306415016432114\n",
      "p value is 0.5798884518689369\n",
      "Independent (H0 holds true), there is no dependency between being a member of the second control group and subscribing to \n",
      "premium\n"
     ]
    }
   ],
   "source": [
    "# Perform the chi-squared test on control group 2\n",
    "chi2, p = scipy.chisquare(observed_paid_test_2, f_exp=expected_paid_values_2)\n",
    "\n",
    "# Print the test statistic and p-value\n",
    "print(\"Chi-squared test statistic:\", chi2)\n",
    "\n",
    "print(\"p value is \" + str(p))\n",
    "if p <= alpha:\n",
    "    print('Dependent (reject H0), there is a dependency between being a member of the second control group and subscribing to premium')\n",
    "else:\n",
    "    print('Independent (H0 holds true), there is no dependency between being a member of the second control group and subscribing to \\npremium')"
   ]
  },
  {
   "cell_type": "markdown",
   "id": "8fa7ac0b",
   "metadata": {},
   "source": [
    "##### From those results, we can see that there are dependency both in test group and in the first control group. The dependency in the test group is to be expected, but it's bad for our analysis that there is also a dependency in the first control group, since the control groups are supposed to be the stable basis. Let's see in which directions the dependencies we evaluated pulls us."
   ]
  },
  {
   "cell_type": "code",
   "execution_count": 91,
   "id": "8c435fe8",
   "metadata": {},
   "outputs": [
    {
     "data": {
      "text/html": [
       "<div>\n",
       "<style scoped>\n",
       "    .dataframe tbody tr th:only-of-type {\n",
       "        vertical-align: middle;\n",
       "    }\n",
       "\n",
       "    .dataframe tbody tr th {\n",
       "        vertical-align: top;\n",
       "    }\n",
       "\n",
       "    .dataframe thead th {\n",
       "        text-align: right;\n",
       "    }\n",
       "</style>\n",
       "<table border=\"1\" class=\"dataframe\">\n",
       "  <thead>\n",
       "    <tr style=\"text-align: right;\">\n",
       "      <th></th>\n",
       "      <th>not_paid</th>\n",
       "      <th>paid</th>\n",
       "      <th>total_row</th>\n",
       "    </tr>\n",
       "  </thead>\n",
       "  <tbody>\n",
       "    <tr>\n",
       "      <th>test_group</th>\n",
       "      <td>1564.381791</td>\n",
       "      <td>227.618209</td>\n",
       "      <td>1792.0</td>\n",
       "    </tr>\n",
       "    <tr>\n",
       "      <th>control_1</th>\n",
       "      <td>1636.839207</td>\n",
       "      <td>238.160793</td>\n",
       "      <td>1875.0</td>\n",
       "    </tr>\n",
       "    <tr>\n",
       "      <th>control_2</th>\n",
       "      <td>1554.779001</td>\n",
       "      <td>226.220999</td>\n",
       "      <td>1781.0</td>\n",
       "    </tr>\n",
       "    <tr>\n",
       "      <th>total_column</th>\n",
       "      <td>4756.000000</td>\n",
       "      <td>692.000000</td>\n",
       "      <td>5448.0</td>\n",
       "    </tr>\n",
       "  </tbody>\n",
       "</table>\n",
       "</div>"
      ],
      "text/plain": [
       "                 not_paid        paid  total_row\n",
       "test_group    1564.381791  227.618209     1792.0\n",
       "control_1     1636.839207  238.160793     1875.0\n",
       "control_2     1554.779001  226.220999     1781.0\n",
       "total_column  4756.000000  692.000000     5448.0"
      ]
     },
     "execution_count": 91,
     "metadata": {},
     "output_type": "execute_result"
    }
   ],
   "source": [
    "paid_expected"
   ]
  },
  {
   "cell_type": "code",
   "execution_count": 90,
   "id": "33c36c69",
   "metadata": {},
   "outputs": [
    {
     "data": {
      "text/html": [
       "<div>\n",
       "<style scoped>\n",
       "    .dataframe tbody tr th:only-of-type {\n",
       "        vertical-align: middle;\n",
       "    }\n",
       "\n",
       "    .dataframe tbody tr th {\n",
       "        vertical-align: top;\n",
       "    }\n",
       "\n",
       "    .dataframe thead th {\n",
       "        text-align: right;\n",
       "    }\n",
       "</style>\n",
       "<table border=\"1\" class=\"dataframe\">\n",
       "  <thead>\n",
       "    <tr style=\"text-align: right;\">\n",
       "      <th></th>\n",
       "      <th>not_paid</th>\n",
       "      <th>paid</th>\n",
       "      <th>total_row</th>\n",
       "    </tr>\n",
       "  </thead>\n",
       "  <tbody>\n",
       "    <tr>\n",
       "      <th>test_group</th>\n",
       "      <td>1609</td>\n",
       "      <td>183</td>\n",
       "      <td>1792</td>\n",
       "    </tr>\n",
       "    <tr>\n",
       "      <th>control_1</th>\n",
       "      <td>1600</td>\n",
       "      <td>275</td>\n",
       "      <td>1875</td>\n",
       "    </tr>\n",
       "    <tr>\n",
       "      <th>control_2</th>\n",
       "      <td>1547</td>\n",
       "      <td>234</td>\n",
       "      <td>1781</td>\n",
       "    </tr>\n",
       "    <tr>\n",
       "      <th>total_column</th>\n",
       "      <td>4756</td>\n",
       "      <td>692</td>\n",
       "      <td>5448</td>\n",
       "    </tr>\n",
       "  </tbody>\n",
       "</table>\n",
       "</div>"
      ],
      "text/plain": [
       "              not_paid  paid  total_row\n",
       "test_group        1609   183       1792\n",
       "control_1         1600   275       1875\n",
       "control_2         1547   234       1781\n",
       "total_column      4756   692       5448"
      ]
     },
     "execution_count": 90,
     "metadata": {},
     "output_type": "execute_result"
    }
   ],
   "source": [
    "paid"
   ]
  },
  {
   "cell_type": "markdown",
   "id": "34f0eba1",
   "metadata": {},
   "source": [
    "We can see by looking at the numbers in our dataframes that the expected count of paid users in the test group is much higher than observed, meaning that there our A/B testing was not a success. Less users made a payment in the test group than they used to do when we were not performing our A/B test.\n",
    "\n",
    "We can also see that our observed control group 1 is higher than our expected value. This is bad, since it implies that the variance between our two control groups was significantly too high."
   ]
  },
  {
   "cell_type": "markdown",
   "id": "097fc51e",
   "metadata": {},
   "source": [
    "# Conclusion on hypothesis testing"
   ]
  },
  {
   "cell_type": "markdown",
   "id": "4f899755",
   "metadata": {},
   "source": [
    "We run some statistical tests on applicable data and stated that variance in revenues of groups are significantly different from each other. That was the reason to run a Welch's test instead of a regular Fisher's test. Welch's test showed us that mean of test group was not significantly different from means of both controls. That means that offering another pricing with only two new payment methodes doesn't bring more revenue.\n",
    "\n",
    "We saw while performing chi-square that there is a dependency between being a member of the test group and being subscribed to premium. When we look at the number and the difference between expected value and actual value, we can see that the dependency is a negative one. In other words, members of the test group tend to subscribe to premium less then member of the control groups. We can say that the experiement on A/B testing was not a success.\n",
    "\n",
    "Less users made a payment in the test group than they used to do when we were not performing our A/B test. This is an other proof of the failure of our test.\n",
    "\n",
    "In conclusion, we would have to say that the A/B testing was not a success. We believe that this experiment was doomed from the start, since the team tried to analyse multiple variables all at once, where A/B testing is supposed to be focused on looking at the effect of one variable on the regular activity. I would recommend to try this experiment on only one heterogeneous group to get more accurate data. "
   ]
  },
  {
   "cell_type": "code",
   "execution_count": null,
   "id": "1d06daa8",
   "metadata": {},
   "outputs": [],
   "source": []
  }
 ],
 "metadata": {
  "kernelspec": {
   "display_name": "Python 3 (ipykernel)",
   "language": "python",
   "name": "python3"
  },
  "language_info": {
   "codemirror_mode": {
    "name": "ipython",
    "version": 3
   },
   "file_extension": ".py",
   "mimetype": "text/x-python",
   "name": "python",
   "nbconvert_exporter": "python",
   "pygments_lexer": "ipython3",
   "version": "3.9.12"
  }
 },
 "nbformat": 4,
 "nbformat_minor": 5
}
